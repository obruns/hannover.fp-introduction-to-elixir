{
 "cells": [
  {
   "cell_type": "markdown",
   "metadata": {
    "collapsed": false,
    "slideshow": {
     "slide_type": "slide"
    }
   },
   "source": [
    "# Introduction to Elixir"
   ]
  },
  {
   "cell_type": "markdown",
   "metadata": {
    "slideshow": {
     "slide_type": "slide"
    }
   },
   "source": [
    "## Contents\n",
    "\n",
    "* Resources\n",
    "* What?\n",
    "* Origin\n",
    "* Tooling\n",
    "* Communicating Sequential Processes and the Actor Model\n",
    "* Phoenix Framework"
   ]
  },
  {
   "cell_type": "markdown",
   "metadata": {
    "slideshow": {
     "slide_type": "slide"
    }
   },
   "source": [
    "## Resources\n",
    "\n",
    "* [List of Elixir Talks](https://github.com/elixir-lang/elixir/wiki/Talks)\n",
    "* [Idioms for building distributed fault-tolerant applications w/ Elixir](https://vimeo.com/channels/932977/131631884)\n",
    "* [Metaprogramming Elixir](https://vimeo.com/channels/932977/131643017)\n",
    "* [Phoenix - a framework for the modern web - Chris Mccord](https://vimeo.com/channels/932977/131633172)\n",
    "* [Using Elixir to get the fun back in Lego Mindstorms](https://vimeo.com/channels/932977/131639825)\n",
    "* [Implementing the logic for a board game in Elixir](https://vimeo.com/channels/932977/131757761)\n",
    "* [Tony Hoare 1978: \"Communicating Sequential Processes\"](https://dx.doi.org/10.1145%2F359576.359585)\n",
    "* [Tony Hoare: Using Communicating Sequential Processes](http://www.usingcsp.com/cspbook.pdf)\n",
    "* [Elixir Koans](http://elixirkoans.io/)\n",
    "* [Phoenix Framework: Up and Running](http://www.phoenixframework.org/docs/up-and-running)"
   ]
  },
  {
   "cell_type": "markdown",
   "metadata": {
    "slideshow": {
     "slide_type": "slide"
    }
   },
   "source": [
    "## What?\n",
    "\n",
    "* a language\n",
    "    + for the Erlang VM (BEAM)\n",
    "    + written with Ruby in mind\n",
    "        - syntax\n",
    "        - tooling\n",
    "        - Ruby's deficiencies\n",
    "    + with support for metaprogramming via `quote` and `unquote` (hygienic macros)"
   ]
  },
  {
   "cell_type": "markdown",
   "metadata": {
    "slideshow": {
     "slide_type": "slide"
    }
   },
   "source": [
    "## Origin\n",
    "\n",
    "* Erlang\n",
    "    + written by Joe Armstrong at Ericsson\n",
    "    + praised for its robustness\n",
    "    + you depend on it every day\n",
    "        - Ericsson hardware drives 50% of Mobile Telecommunication\n",
    "* OTP\n",
    "    + Open Telecom Platform\n",
    "    + Erlang's middleware\n",
    "* the syntax is certainly an improvement from Erlang's and has strong resemblance to the syntax of Ruby\n",
    "* José Valim (creator of Elixir) mentioned Ruby's lack of support for concurrency as one reason for creating Elixir"
   ]
  },
  {
   "cell_type": "markdown",
   "metadata": {
    "slideshow": {
     "slide_type": "slide"
    }
   },
   "source": [
    "## Tooling"
   ]
  },
  {
   "cell_type": "markdown",
   "metadata": {
    "slideshow": {
     "slide_type": "subslide"
    }
   },
   "source": [
    "* like any modern language, Elixir comes with a tool ecosystem"
   ]
  },
  {
   "cell_type": "markdown",
   "metadata": {
    "slideshow": {
     "slide_type": "subslide"
    }
   },
   "source": [
    "* iex - the REPL\n",
    "    + colored\n",
    "    + tab completion\n",
    "    + introspection\n",
    "    + help system\n",
    "    + multiple shells\n",
    "    + remote shells\n",
    "    + downside: command history is not preserved across restarts"
   ]
  },
  {
   "cell_type": "markdown",
   "metadata": {
    "slideshow": {
     "slide_type": "subslide"
    }
   },
   "source": [
    "* mix - the build tool\n",
    "    + if you are familiar with `sbt` (Scala), `rake` (Ruby), `cargo` (Rust) and the likes, you'll be comfortable with `mix`, too\n",
    "    + strong integration with Git(Hub)\n",
    "    + code generation\n",
    "    + datebase migrations"
   ]
  },
  {
   "cell_type": "markdown",
   "metadata": {
    "slideshow": {
     "slide_type": "subslide"
    }
   },
   "source": [
    "* hex - the package manager\n",
    "* ExUnit - the unit test framework"
   ]
  },
  {
   "cell_type": "markdown",
   "metadata": {
    "slideshow": {
     "slide_type": "slide"
    }
   },
   "source": [
    "## Communication Sequential Processes and the Actor Model\n",
    "\n",
    "* two distinct things (see [Wikipedia](https://en.wikipedia.org/wiki/Communicating_sequential_processes#Comparison_with_the_Actor_Model))\n",
    "    + CSP has fixed topology and used synchronous message passing\n",
    "* Actor Model first described in 1973\n",
    "* CSP first described by Tony Hoare in 1978\n",
    "* foundation of Erlang's Processes and Go's goroutines (among others)\n",
    "* often used with pattern matching particularly when used in dynamically typed languages\n",
    "* a (lightweight, language-level) process that blocks (efficiently) on a mailbox (message queue)\n",
    "* can change behavior, i.e. accept different messages or react differently to the same message type\n",
    "* used to build supervision trees to achieve resilience"
   ]
  },
  {
   "cell_type": "markdown",
   "metadata": {
    "slideshow": {
     "slide_type": "slide"
    }
   },
   "source": [
    "## Phoenix Framework\n",
    "\n",
    "* a Web Framework for Elixir\n",
    "* said to be similar to Rails in terms of features but faster\n",
    "* request dispatch is an Elixir function call\n",
    "* heavily integrates with `mix` to provide code generation and drive database migrations"
   ]
  }
 ],
 "metadata": {
  "celltoolbar": "Slideshow",
  "kernelspec": {
   "display_name": "ielixir",
   "language": "Elixir",
   "name": "ielixir"
  },
  "language_info": {
   "codemirror_mode": "erlang",
   "file_extension": "ex",
   "mimetype": "text/x-elixir",
   "name": "elixir",
   "nbconvert_exporter": "",
   "pygments_lexer": "pygments.lexers.erlang.ElixirLexer",
   "version": "#Version<1.2.3>"
  }
 },
 "nbformat": 4,
 "nbformat_minor": 0
}
